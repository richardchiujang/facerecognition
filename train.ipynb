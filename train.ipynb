{
 "cells": [
  {
   "cell_type": "markdown",
   "metadata": {},
   "source": [
    "[sklearn.neighbors.KNeighborsClassifier](https://scikit-learn.org/stable/modules/generated/sklearn.neighbors.KNeighborsClassifier.html)\n",
    "\n",
    "[机器学习实战 之 kNN 分类](https://zhuanlan.zhihu.com/p/23191325)\n",
    "\n",
    "[最近鄰居法](https://zh.wikipedia.org/wiki/%E6%9C%80%E8%BF%91%E9%84%B0%E5%B1%85%E6%B3%95)"
   ]
  },
  {
   "cell_type": "code",
   "execution_count": 11,
   "metadata": {},
   "outputs": [],
   "source": [
    "import os\n",
    "from random import shuffle\n",
    "from sklearn import svm, neighbors\n",
    "import pickle\n",
    "import numpy as np\n",
    "import pandas as pd\n",
    "\n"
   ]
  },
  {
   "cell_type": "code",
   "execution_count": 12,
   "metadata": {},
   "outputs": [],
   "source": [
    "encoding_file_path = './encoded-images-data.csv'\n",
    "labels_fName = 'labels.pkl'"
   ]
  },
  {
   "cell_type": "code",
   "execution_count": 13,
   "metadata": {},
   "outputs": [],
   "source": [
    "if os.path.isfile(encoding_file_path):\n",
    "    df = pd.read_csv(encoding_file_path)\n",
    "else:\n",
    "    print('\\x1b[0;37;41m' + '{} does not exist'.format(encoding_file_path) + '\\x1b[0m')\n",
    "    quit()\n",
    "\n",
    "if os.path.isfile(labels_fName):\n",
    "    with open(labels_fName, 'rb') as f:\n",
    "        le = pickle.load(f)\n",
    "else:\n",
    "    print('\\x1b[0;37;41m' + '{} does not exist'.format(labels_fName) + '\\x1b[0m')\n",
    "    quit()\n",
    "\n",
    "# Read the dataframe into a numpy array\n",
    "# shuffle the dataset\n",
    "full_data = np.array(df.astype(float).values.tolist())\n",
    "shuffle(full_data)\n",
    "\n",
    "# Extract features and labels\n",
    "# remove id column (0th column)\n",
    "X = np.array(full_data[:, 1:-1])\n",
    "y = np.array(full_data[:, -1:])"
   ]
  },
  {
   "cell_type": "code",
   "execution_count": 14,
   "metadata": {},
   "outputs": [
    {
     "data": {
      "text/plain": [
       "KNeighborsClassifier(algorithm='ball_tree', leaf_size=30, metric='minkowski',\n",
       "           metric_params=None, n_jobs=None, n_neighbors=2, p=2,\n",
       "           weights='distance')"
      ]
     },
     "execution_count": 14,
     "metadata": {},
     "output_type": "execute_result"
    }
   ],
   "source": [
    "# fit the data into a support vector machine\n",
    "# clf = svm.SVC(C=1, kernel='linear', probability=True)\n",
    "clf = neighbors.KNeighborsClassifier(n_neighbors=2, algorithm='ball_tree', weights='distance')\n",
    "clf.fit(X, y.ravel())"
   ]
  },
  {
   "cell_type": "code",
   "execution_count": 15,
   "metadata": {},
   "outputs": [
    {
     "data": {
      "text/plain": [
       "{'algorithm': 'ball_tree',\n",
       " 'leaf_size': 30,\n",
       " 'metric': 'minkowski',\n",
       " 'metric_params': None,\n",
       " 'n_jobs': None,\n",
       " 'n_neighbors': 2,\n",
       " 'p': 2,\n",
       " 'weights': 'distance'}"
      ]
     },
     "execution_count": 15,
     "metadata": {},
     "output_type": "execute_result"
    }
   ],
   "source": [
    "clf.get_params()"
   ]
  },
  {
   "cell_type": "code",
   "execution_count": 16,
   "metadata": {},
   "outputs": [
    {
     "name": "stdout",
     "output_type": "stream",
     "text": [
      "\u001b[0;37;43m./classifier.pkl already exists. Backing up.\u001b[0m\n",
      "\u001b[6;30;42mSaving classifier to './classifier.pkl'\u001b[0m\n"
     ]
    }
   ],
   "source": [
    "fName = \"./classifier.pkl\"\n",
    "# if file with same name already exists, backup the old file\n",
    "if os.path.isfile(fName):\n",
    "    print('\\x1b[0;37;43m' + \"{} already exists. Backing up.\".format(fName) + '\\x1b[0m')\n",
    "    try:\n",
    "        os.rename(fName, \"{}.bak\".format(fName))\n",
    "    except WindowsError:\n",
    "        os.remove(\"{}.bak\".format(fName))\n",
    "        os.rename(fName, \"{}.bak\".format(fName))\n",
    "#    os.rename(fName, \"{}.bak\".format(fName))\n",
    "\n",
    "# save the classifier pickle\n",
    "with open(fName, 'wb') as f:\n",
    "    pickle.dump((le, clf), f)\n",
    "print('\\x1b[6;30;42m' + \"Saving classifier to '{}'\".format(fName) + '\\x1b[0m')"
   ]
  },
  {
   "cell_type": "code",
   "execution_count": 17,
   "metadata": {},
   "outputs": [
    {
     "name": "stdout",
     "output_type": "stream",
     "text": [
      "LabelEncoder() KNeighborsClassifier(algorithm='ball_tree', leaf_size=30, metric='minkowski',\n",
      "           metric_params=None, n_jobs=None, n_neighbors=2, p=2,\n",
      "           weights='distance')\n"
     ]
    }
   ],
   "source": [
    "print(le, clf)"
   ]
  },
  {
   "cell_type": "code",
   "execution_count": null,
   "metadata": {},
   "outputs": [],
   "source": []
  },
  {
   "cell_type": "code",
   "execution_count": null,
   "metadata": {},
   "outputs": [],
   "source": []
  },
  {
   "cell_type": "code",
   "execution_count": null,
   "metadata": {},
   "outputs": [],
   "source": []
  },
  {
   "cell_type": "code",
   "execution_count": null,
   "metadata": {},
   "outputs": [],
   "source": []
  },
  {
   "cell_type": "code",
   "execution_count": null,
   "metadata": {},
   "outputs": [],
   "source": []
  },
  {
   "cell_type": "code",
   "execution_count": null,
   "metadata": {},
   "outputs": [],
   "source": []
  },
  {
   "cell_type": "code",
   "execution_count": null,
   "metadata": {},
   "outputs": [],
   "source": []
  },
  {
   "cell_type": "code",
   "execution_count": null,
   "metadata": {},
   "outputs": [],
   "source": []
  },
  {
   "cell_type": "code",
   "execution_count": null,
   "metadata": {},
   "outputs": [],
   "source": []
  },
  {
   "cell_type": "code",
   "execution_count": null,
   "metadata": {},
   "outputs": [],
   "source": []
  }
 ],
 "metadata": {
  "kernelspec": {
   "display_name": "Python 3",
   "language": "python",
   "name": "python3"
  },
  "language_info": {
   "codemirror_mode": {
    "name": "ipython",
    "version": 3
   },
   "file_extension": ".py",
   "mimetype": "text/x-python",
   "name": "python",
   "nbconvert_exporter": "python",
   "pygments_lexer": "ipython3",
   "version": "3.6.8"
  }
 },
 "nbformat": 4,
 "nbformat_minor": 2
}
